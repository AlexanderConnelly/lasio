{
 "cells": [
  {
   "cell_type": "code",
   "execution_count": 1,
   "metadata": {
    "collapsed": false,
    "scrolled": false
   },
   "outputs": [
    {
     "name": "stderr",
     "output_type": "stream",
     "text": [
      "DEBUG:lasio.las:LASFile.read LAS content is type <type 'str'>\n",
      "DEBUG:lasio.las:SectionItems.append type=<class 'lasio.las.HeaderItem'> str=HeaderItem(mnemonic=VERS, unit=, value=1.2, descr=CWLS LOG ASCII STANDARD -VERSION 1.2, original_mnemonic=VERS)\n",
      "DEBUG:lasio.las:SectionItems.append type=<class 'lasio.las.HeaderItem'> str=HeaderItem(mnemonic=WRAP, unit=, value=NO, descr=ONE LINE PER DEPTH STEP, original_mnemonic=WRAP)\n",
      "DEBUG:lasio.las:SectionItems.append type=<class 'lasio.las.HeaderItem'> str=HeaderItem(mnemonic=STRT, unit=M, value=1670.0, descr=, original_mnemonic=STRT)\n",
      "DEBUG:lasio.las:SectionItems.append type=<class 'lasio.las.HeaderItem'> str=HeaderItem(mnemonic=STOP, unit=M, value=1660.0, descr=, original_mnemonic=STOP)\n",
      "DEBUG:lasio.las:SectionItems.append type=<class 'lasio.las.HeaderItem'> str=HeaderItem(mnemonic=STEP, unit=M, value=-0.125, descr=, original_mnemonic=STEP)\n",
      "DEBUG:lasio.las:SectionItems.append type=<class 'lasio.las.HeaderItem'> str=HeaderItem(mnemonic=NULL, unit=, value=-999.25, descr=, original_mnemonic=NULL)\n",
      "DEBUG:lasio.las:SectionItems.append type=<class 'lasio.las.HeaderItem'> str=HeaderItem(mnemonic=COMPANY, unit=, value=# ANY OIL COMPANY LTD., descr=COMPANY, original_mnemonic=COMPANY)\n",
      "DEBUG:lasio.las:SectionItems.append type=<class 'lasio.las.HeaderItem'> str=HeaderItem(mnemonic=WELL, unit=, value=ANY ET AL OIL WELL #12, descr=WELL, original_mnemonic=WELL)\n",
      "DEBUG:lasio.las:SectionItems.append type=<class 'lasio.las.HeaderItem'> str=HeaderItem(mnemonic=FLD, unit=, value=EDAM, descr=FIELD, original_mnemonic=FLD)\n",
      "DEBUG:lasio.las:SectionItems.append type=<class 'lasio.las.HeaderItem'> str=HeaderItem(mnemonic=LOC, unit=, value=A9-16-49-20W3M, descr=LOCATION, original_mnemonic=LOC)\n",
      "DEBUG:lasio.las:SectionItems.append type=<class 'lasio.las.HeaderItem'> str=HeaderItem(mnemonic=PROV, unit=, value=SASKATCHEWAN, descr=PROVINCE, original_mnemonic=PROV)\n",
      "DEBUG:lasio.las:SectionItems.append type=<class 'lasio.las.HeaderItem'> str=HeaderItem(mnemonic=SRVC, unit=, value=The company that did this logging has a very very long name...., descr=SERVICE, original_mnemonic=SRVC)\n",
      "DEBUG:lasio.las:SectionItems.append type=<class 'lasio.las.HeaderItem'> str=HeaderItem(mnemonic=DATE, unit=, value=25-DEC-1988, descr=LOG DATE, original_mnemonic=DATE)\n",
      "DEBUG:lasio.las:SectionItems.append type=<class 'lasio.las.HeaderItem'> str=HeaderItem(mnemonic=UWI, unit=, value=100091604920W300, descr=WELL ID, original_mnemonic=UWI)\n",
      "DEBUG:lasio.las:SectionItems.append type=<class 'lasio.las.CurveItem'> str=CurveItem(mnemonic=D, unit=M, value=, descr=1  DEPTH, original_mnemonic=D)\n",
      "DEBUG:lasio.las:SectionItems.append type=<class 'lasio.las.CurveItem'> str=CurveItem(mnemonic=A, unit=US/M, value=, descr=2  SONIC TRANSIT TIME, original_mnemonic=A)\n",
      "DEBUG:lasio.las:SectionItems.append type=<class 'lasio.las.CurveItem'> str=CurveItem(mnemonic=B, unit=K/M3, value=, descr=3  BULK DENSITY, original_mnemonic=B)\n",
      "DEBUG:lasio.las:SectionItems.append type=<class 'lasio.las.CurveItem'> str=CurveItem(mnemonic=C, unit=V/V, value=, descr=4   NEUTRON POROSITY, original_mnemonic=C)\n",
      "DEBUG:lasio.las:SectionItems.append type=<class 'lasio.las.HeaderItem'> str=HeaderItem(mnemonic=BHT, unit=DEGC, value=35.5, descr=BOTTOM HOLE TEMPERATURE, original_mnemonic=BHT)\n",
      "DEBUG:lasio.las:SectionItems.append type=<class 'lasio.las.HeaderItem'> str=HeaderItem(mnemonic=BS, unit=MM, value=200.0, descr=BIT SIZE, original_mnemonic=BS)\n",
      "DEBUG:lasio.las:SectionItems.append type=<class 'lasio.las.HeaderItem'> str=HeaderItem(mnemonic=FD, unit=K/M3, value=1000.0, descr=FLUID DENSITY, original_mnemonic=FD)\n",
      "DEBUG:lasio.las:SectionItems.append type=<class 'lasio.las.HeaderItem'> str=HeaderItem(mnemonic=MATR, unit=, value=0.0, descr=NEUTRON MATRIX(0=LIME,1=SAND,2=DOLO), original_mnemonic=MATR)\n",
      "DEBUG:lasio.las:SectionItems.append type=<class 'lasio.las.HeaderItem'> str=HeaderItem(mnemonic=MDEN, unit=, value=2710.0, descr=LOGGING MATRIX DENSITY, original_mnemonic=MDEN)\n",
      "DEBUG:lasio.las:SectionItems.append type=<class 'lasio.las.HeaderItem'> str=HeaderItem(mnemonic=RMF, unit=OHMM, value=0.216, descr=MUD FILTRATE RESISTIVITY, original_mnemonic=RMF)\n",
      "DEBUG:lasio.las:SectionItems.append type=<class 'lasio.las.HeaderItem'> str=HeaderItem(mnemonic=DFD, unit=K/M3, value=1525.0, descr=DRILL FLUID DENSITY, original_mnemonic=DFD)\n",
      "INFO:lasio.las:Reader.read_data LAS file shape = (3, 8)\n",
      "DEBUG:lasio.las:Reader.read_data checking for nulls (NULL = -999.25)\n",
      "DEBUG:lasio.las:SectionItems.__setitem__ Replaced VERS item\n",
      "DEBUG:lasio.las:LASFile.write Version section\n",
      "DEBUG:lasio.las:get_section_widths HeaderItem(mnemonic=VERS, unit=, value=1.2, descr=CWLS LOG ASCII STANDARD - VERSION 1.2, original_mnemonic=VERS)\n",
      "\torder=value:descr rhs_element=value\n",
      "DEBUG:lasio.las:get_section_widths HeaderItem(mnemonic=WRAP, unit=, value=NO, descr=ONE LINE PER DEPTH STEP, original_mnemonic=WRAP)\n",
      "\torder=value:descr rhs_element=value\n",
      "DEBUG:lasio.las:LASFile.write HeaderItem(mnemonic=VERS, unit=, value=1.2, descr=CWLS LOG ASCII STANDARD - VERSION 1.2, original_mnemonic=VERS)\n",
      "order=value:descr section_widths={'left_width': 4, 'middle_width': 4}\n",
      "DEBUG:lasio.las:LASFile.write HeaderItem(mnemonic=WRAP, unit=, value=NO, descr=ONE LINE PER DEPTH STEP, original_mnemonic=WRAP)\n",
      "order=value:descr section_widths={'left_width': 4, 'middle_width': 4}\n",
      "DEBUG:lasio.las:LASFile.write Well section\n",
      "DEBUG:lasio.las:get_section_widths HeaderItem(mnemonic=STRT, unit=M, value=1670.0, descr=, original_mnemonic=STRT)\n",
      "\torder=value:descr rhs_element=value\n",
      "DEBUG:lasio.las:get_section_widths HeaderItem(mnemonic=STOP, unit=M, value=1669.75, descr=, original_mnemonic=STOP)\n",
      "\torder=value:descr rhs_element=value\n",
      "DEBUG:lasio.las:get_section_widths HeaderItem(mnemonic=STEP, unit=M, value=-0.125, descr=, original_mnemonic=STEP)\n",
      "\torder=value:descr rhs_element=value\n",
      "DEBUG:lasio.las:get_section_widths HeaderItem(mnemonic=NULL, unit=, value=-999.25, descr=, original_mnemonic=NULL)\n",
      "\torder=value:descr rhs_element=value\n",
      "DEBUG:lasio.las:get_section_widths HeaderItem(mnemonic=COMPANY, unit=, value=# ANY OIL COMPANY LTD., descr=COMPANY, original_mnemonic=COMPANY)\n",
      "\torder=descr:value rhs_element=descr\n",
      "DEBUG:lasio.las:get_section_widths HeaderItem(mnemonic=WELL, unit=, value=ANY ET AL OIL WELL #12, descr=WELL, original_mnemonic=WELL)\n",
      "\torder=descr:value rhs_element=descr\n",
      "DEBUG:lasio.las:get_section_widths HeaderItem(mnemonic=FLD, unit=, value=EDAM, descr=FIELD, original_mnemonic=FLD)\n",
      "\torder=descr:value rhs_element=descr\n",
      "DEBUG:lasio.las:get_section_widths HeaderItem(mnemonic=LOC, unit=, value=A9-16-49-20W3M, descr=LOCATION, original_mnemonic=LOC)\n",
      "\torder=descr:value rhs_element=descr\n",
      "DEBUG:lasio.las:get_section_widths HeaderItem(mnemonic=PROV, unit=, value=SASKATCHEWAN, descr=PROVINCE, original_mnemonic=PROV)\n",
      "\torder=descr:value rhs_element=descr\n",
      "DEBUG:lasio.las:get_section_widths HeaderItem(mnemonic=SRVC, unit=, value=The company that did this logging has a very very long name...., descr=SERVICE, original_mnemonic=SRVC)\n",
      "\torder=descr:value rhs_element=descr\n",
      "DEBUG:lasio.las:get_section_widths HeaderItem(mnemonic=DATE, unit=, value=25-DEC-1988, descr=LOG DATE, original_mnemonic=DATE)\n",
      "\torder=descr:value rhs_element=descr\n",
      "DEBUG:lasio.las:get_section_widths HeaderItem(mnemonic=UWI, unit=, value=100091604920W300, descr=WELL ID, original_mnemonic=UWI)\n",
      "\torder=descr:value rhs_element=descr\n",
      "DEBUG:lasio.las:LASFile.write HeaderItem(mnemonic=STRT, unit=M, value=1670.0, descr=, original_mnemonic=STRT)\n",
      "order=value:descr section_widths={'left_width': 7, 'middle_width': 9}\n",
      "DEBUG:lasio.las:LASFile.write HeaderItem(mnemonic=STOP, unit=M, value=1669.75, descr=, original_mnemonic=STOP)\n",
      "order=value:descr section_widths={'left_width': 7, 'middle_width': 9}\n",
      "DEBUG:lasio.las:LASFile.write HeaderItem(mnemonic=STEP, unit=M, value=-0.125, descr=, original_mnemonic=STEP)\n",
      "order=value:descr section_widths={'left_width': 7, 'middle_width': 9}\n",
      "DEBUG:lasio.las:LASFile.write HeaderItem(mnemonic=NULL, unit=, value=-999.25, descr=, original_mnemonic=NULL)\n",
      "order=value:descr section_widths={'left_width': 7, 'middle_width': 9}\n",
      "DEBUG:lasio.las:LASFile.write HeaderItem(mnemonic=COMPANY, unit=, value=# ANY OIL COMPANY LTD., descr=COMPANY, original_mnemonic=COMPANY)\n",
      "order=descr:value section_widths={'left_width': 7, 'middle_width': 9}\n",
      "DEBUG:lasio.las:LASFile.write HeaderItem(mnemonic=WELL, unit=, value=ANY ET AL OIL WELL #12, descr=WELL, original_mnemonic=WELL)\n",
      "order=descr:value section_widths={'left_width': 7, 'middle_width': 9}\n",
      "DEBUG:lasio.las:LASFile.write HeaderItem(mnemonic=FLD, unit=, value=EDAM, descr=FIELD, original_mnemonic=FLD)\n",
      "order=descr:value section_widths={'left_width': 7, 'middle_width': 9}\n",
      "DEBUG:lasio.las:LASFile.write HeaderItem(mnemonic=LOC, unit=, value=A9-16-49-20W3M, descr=LOCATION, original_mnemonic=LOC)\n",
      "order=descr:value section_widths={'left_width': 7, 'middle_width': 9}\n",
      "DEBUG:lasio.las:LASFile.write HeaderItem(mnemonic=PROV, unit=, value=SASKATCHEWAN, descr=PROVINCE, original_mnemonic=PROV)\n",
      "order=descr:value section_widths={'left_width': 7, 'middle_width': 9}\n",
      "DEBUG:lasio.las:LASFile.write HeaderItem(mnemonic=SRVC, unit=, value=The company that did this logging has a very very long name...., descr=SERVICE, original_mnemonic=SRVC)\n",
      "order=descr:value section_widths={'left_width': 7, 'middle_width': 9}\n",
      "DEBUG:lasio.las:LASFile.write HeaderItem(mnemonic=DATE, unit=, value=25-DEC-1988, descr=LOG DATE, original_mnemonic=DATE)\n",
      "order=descr:value section_widths={'left_width': 7, 'middle_width': 9}\n",
      "DEBUG:lasio.las:LASFile.write HeaderItem(mnemonic=UWI, unit=, value=100091604920W300, descr=WELL ID, original_mnemonic=UWI)\n",
      "order=descr:value section_widths={'left_width': 7, 'middle_width': 9}\n",
      "DEBUG:lasio.las:LASFile.write Curves section\n",
      "DEBUG:lasio.las:get_section_widths CurveItem(mnemonic=D, unit=M, value=, descr=1  DEPTH, original_mnemonic=D)\n",
      "\torder=value:descr rhs_element=value\n",
      "DEBUG:lasio.las:get_section_widths CurveItem(mnemonic=A, unit=US/M, value=, descr=2  SONIC TRANSIT TIME, original_mnemonic=A)\n",
      "\torder=value:descr rhs_element=value\n",
      "DEBUG:lasio.las:get_section_widths CurveItem(mnemonic=B, unit=K/M3, value=, descr=3  BULK DENSITY, original_mnemonic=B)\n",
      "\torder=value:descr rhs_element=value\n",
      "DEBUG:lasio.las:get_section_widths CurveItem(mnemonic=C, unit=V/V, value=, descr=4   NEUTRON POROSITY, original_mnemonic=C)\n",
      "\torder=value:descr rhs_element=value\n",
      "DEBUG:lasio.las:get_section_widths HeaderItem(mnemonic=BHT, unit=DEGC, value=35.5, descr=BOTTOM HOLE TEMPERATURE, original_mnemonic=BHT)\n",
      "\torder=value:descr rhs_element=value\n",
      "DEBUG:lasio.las:get_section_widths HeaderItem(mnemonic=BS, unit=MM, value=200.0, descr=BIT SIZE, original_mnemonic=BS)\n",
      "\torder=value:descr rhs_element=value\n",
      "DEBUG:lasio.las:get_section_widths HeaderItem(mnemonic=FD, unit=K/M3, value=1000.0, descr=FLUID DENSITY, original_mnemonic=FD)\n",
      "\torder=value:descr rhs_element=value\n",
      "DEBUG:lasio.las:get_section_widths HeaderItem(mnemonic=MATR, unit=, value=0.0, descr=NEUTRON MATRIX(0=LIME,1=SAND,2=DOLO), original_mnemonic=MATR)\n",
      "\torder=value:descr rhs_element=value\n",
      "DEBUG:lasio.las:get_section_widths HeaderItem(mnemonic=MDEN, unit=, value=2710.0, descr=LOGGING MATRIX DENSITY, original_mnemonic=MDEN)\n",
      "\torder=value:descr rhs_element=value\n",
      "DEBUG:lasio.las:get_section_widths HeaderItem(mnemonic=RMF, unit=OHMM, value=0.216, descr=MUD FILTRATE RESISTIVITY, original_mnemonic=RMF)\n",
      "\torder=value:descr rhs_element=value\n",
      "DEBUG:lasio.las:get_section_widths HeaderItem(mnemonic=DFD, unit=K/M3, value=1525.0, descr=DRILL FLUID DENSITY, original_mnemonic=DFD)\n",
      "\torder=value:descr rhs_element=value\n"
     ]
    },
    {
     "name": "stdout",
     "output_type": "stream",
     "text": [
      "~Version ---------------------------------------------------\n",
      "VERS. 1.2 : CWLS LOG ASCII STANDARD - VERSION 1.2\n",
      "WRAP.  NO : ONE LINE PER DEPTH STEP\n",
      "~Well ------------------------------------------------------\n",
      "STRT   .M  1670.0 : \n",
      "STOP   .M 1669.75 : \n",
      "STEP   .M  -0.125 : \n",
      "NULL   .  -999.25 : \n",
      "COMPANY.  COMPANY : # ANY OIL COMPANY LTD.\n",
      "WELL   .     WELL : ANY ET AL OIL WELL #12\n",
      "FLD    .    FIELD : EDAM\n",
      "LOC    . LOCATION : A9-16-49-20W3M\n",
      "PROV   . PROVINCE : SASKATCHEWAN\n",
      "SRVC   .  SERVICE : The company that did this logging has a very very long name....\n",
      "DATE   . LOG DATE : 25-DEC-1988\n",
      "UWI    .  WELL ID : 100091604920W300\n",
      "~Curves ----------------------------------------------------\n",
      "D.M     : 1  DEPTH\n",
      "A.US/M  : 2  SONIC TRANSIT TIME\n",
      "B.K/M3  : 3  BULK DENSITY\n",
      "C.V/V   : 4   NEUTRON POROSITY\n",
      "~Params ----------------------------------------------------\n",
      "BHT .DEGC   35.5 : BOTTOM HOLE TEMPERATURE\n",
      "BS  .MM    200.0 : BIT SIZE\n",
      "FD  .K/M3 1000.0 : FLUID DENSITY\n",
      "MATR.        0.0 : NEUTRON MATRIX(0=LIME,1=SAND,2=DOLO)\n",
      "MDEN.     2710.0 : LOGGING MATRIX DENSITY\n",
      "RMF .OHMM  0.216 : MUD FILTRATE RESISTIVITY\n",
      "DFD .K/M3 1525.0 : DRILL FLUID DENSITY\n",
      "~Other -----------------------------------------------------\n",
      "Note: The logging tools became stuck at 625 meters causing the data\n",
      "between 625 meters and 615 meters to be invalid.\n",
      "~ASCII -----------------------------------------------------\n",
      "       1670     123.45       2550       0.45\n",
      "     1669.9     123.45       2550       0.45\n",
      "     1669.8     123.45       2550       0.45\n",
      "\n"
     ]
    }
   ],
   "source": [
    "import logging\n",
    "logging.getLogger().setLevel(level=logging.DEBUG)\n",
    "import lasio\n",
    "import StringIO\n",
    "l = lasio.read(r'D:\\personal\\code\\lasio\\tests\\examples\\sample_write_sect_widths_12.las')\n",
    "s = StringIO.StringIO()\n",
    "l.write(s, version=1.2)\n",
    "s.seek(0); print s.read()"
   ]
  },
  {
   "cell_type": "code",
   "execution_count": 2,
   "metadata": {
    "collapsed": false,
    "scrolled": true
   },
   "outputs": [
    {
     "data": {
      "text/plain": [
       "[HeaderItem(mnemonic=STRT, unit=M, value=1670.0, descr=, original_mnemonic=STRT),\n",
       " HeaderItem(mnemonic=STOP, unit=M, value=1669.75, descr=, original_mnemonic=STOP),\n",
       " HeaderItem(mnemonic=STEP, unit=M, value=-0.125, descr=, original_mnemonic=STEP),\n",
       " HeaderItem(mnemonic=NULL, unit=, value=-999.25, descr=, original_mnemonic=NULL),\n",
       " HeaderItem(mnemonic=COMPANY, unit=, value=# ANY OIL COMPANY LTD., descr=COMPANY, original_mnemonic=COMPANY),\n",
       " HeaderItem(mnemonic=WELL, unit=, value=ANY ET AL OIL WELL #12, descr=WELL, original_mnemonic=WELL),\n",
       " HeaderItem(mnemonic=FLD, unit=, value=EDAM, descr=FIELD, original_mnemonic=FLD),\n",
       " HeaderItem(mnemonic=LOC, unit=, value=A9-16-49-20W3M, descr=LOCATION, original_mnemonic=LOC),\n",
       " HeaderItem(mnemonic=PROV, unit=, value=SASKATCHEWAN, descr=PROVINCE, original_mnemonic=PROV),\n",
       " HeaderItem(mnemonic=SRVC, unit=, value=The company that did this logging has a very very long name...., descr=SERVICE, original_mnemonic=SRVC),\n",
       " HeaderItem(mnemonic=DATE, unit=, value=25-DEC-1988, descr=LOG DATE, original_mnemonic=DATE),\n",
       " HeaderItem(mnemonic=UWI, unit=, value=100091604920W300, descr=WELL ID, original_mnemonic=UWI)]"
      ]
     },
     "execution_count": 2,
     "metadata": {},
     "output_type": "execute_result"
    }
   ],
   "source": [
    "l.well"
   ]
  },
  {
   "cell_type": "code",
   "execution_count": 3,
   "metadata": {
    "collapsed": false
   },
   "outputs": [
    {
     "data": {
      "text/plain": [
       "8"
      ]
     },
     "execution_count": 3,
     "metadata": {},
     "output_type": "execute_result"
    }
   ],
   "source": [
    "max([len(str(i.unit)) + len(str(i.descr)) for i in l.well])"
   ]
  },
  {
   "cell_type": "code",
   "execution_count": null,
   "metadata": {
    "collapsed": true
   },
   "outputs": [],
   "source": []
  }
 ],
 "metadata": {
  "kernelspec": {
   "display_name": "Python 2",
   "language": "python",
   "name": "python2"
  },
  "language_info": {
   "codemirror_mode": {
    "name": "ipython",
    "version": 2
   },
   "file_extension": ".py",
   "mimetype": "text/x-python",
   "name": "python",
   "nbconvert_exporter": "python",
   "pygments_lexer": "ipython2",
   "version": "2.7.10"
  }
 },
 "nbformat": 4,
 "nbformat_minor": 0
}
