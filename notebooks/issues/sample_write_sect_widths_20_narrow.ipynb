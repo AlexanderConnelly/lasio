{
 "cells": [
  {
   "cell_type": "code",
   "execution_count": 2,
   "metadata": {
    "collapsed": false,
    "scrolled": false
   },
   "outputs": [
    {
     "name": "stderr",
     "output_type": "stream",
     "text": [
      "DEBUG:lasio.las:LASFile.read LAS content is type <type 'str'>\n",
      "DEBUG:lasio.las:SectionItems.append type=<class 'lasio.las.HeaderItem'> str=HeaderItem(mnemonic=VERS, unit=, value=2.0, descr=CWLS LOG ASCII STANDARD -VERSION 2.0, original_mnemonic=VERS)\n",
      "DEBUG:lasio.las:SectionItems.append type=<class 'lasio.las.HeaderItem'> str=HeaderItem(mnemonic=WRAP, unit=, value=NO, descr=ONE LINE PER DEPTH STEP, original_mnemonic=WRAP)\n",
      "DEBUG:lasio.las:SectionItems.append type=<class 'lasio.las.HeaderItem'> str=HeaderItem(mnemonic=STRT, unit=M, value=1670.0, descr=START DEPTH, original_mnemonic=STRT)\n",
      "DEBUG:lasio.las:SectionItems.append type=<class 'lasio.las.HeaderItem'> str=HeaderItem(mnemonic=STOP, unit=M, value=1660.0, descr=STOP DEPTH, original_mnemonic=STOP)\n",
      "DEBUG:lasio.las:SectionItems.append type=<class 'lasio.las.HeaderItem'> str=HeaderItem(mnemonic=STEP, unit=M, value=-0.125, descr=STEP, original_mnemonic=STEP)\n",
      "DEBUG:lasio.las:SectionItems.append type=<class 'lasio.las.HeaderItem'> str=HeaderItem(mnemonic=NULL, unit=, value=-999.25, descr=NULL VALUE, original_mnemonic=NULL)\n",
      "DEBUG:lasio.las:SectionItems.append type=<class 'lasio.las.HeaderItem'> str=HeaderItem(mnemonic=COMP, unit=, value=ANY, descr=COMPANY, original_mnemonic=COMP)\n",
      "DEBUG:lasio.las:SectionItems.append type=<class 'lasio.las.HeaderItem'> str=HeaderItem(mnemonic=WELL, unit=, value=AAAAA_2, descr=WELL, original_mnemonic=WELL)\n",
      "DEBUG:lasio.las:SectionItems.append type=<class 'lasio.las.HeaderItem'> str=HeaderItem(mnemonic=FLD, unit=, value=WILDCAT, descr=FIELD, original_mnemonic=FLD)\n",
      "DEBUG:lasio.las:SectionItems.append type=<class 'lasio.las.HeaderItem'> str=HeaderItem(mnemonic=LOC, unit=, value=12, descr=LOCATION, original_mnemonic=LOC)\n",
      "DEBUG:lasio.las:SectionItems.append type=<class 'lasio.las.HeaderItem'> str=HeaderItem(mnemonic=PROV, unit=, value=ALBERTA, descr=PROVINCE, original_mnemonic=PROV)\n",
      "DEBUG:lasio.las:SectionItems.append type=<class 'lasio.las.HeaderItem'> str=HeaderItem(mnemonic=SRVC, unit=, value=LOGGING, descr=SERVICE COMPANY ARE YOU KIDDING THIS IS A REALLY REALLY LONG STRING, original_mnemonic=SRVC)\n",
      "DEBUG:lasio.las:SectionItems.append type=<class 'lasio.las.HeaderItem'> str=HeaderItem(mnemonic=DATE, unit=, value=13-DEC-86, descr=LOG DATE, original_mnemonic=DATE)\n",
      "DEBUG:lasio.las:SectionItems.append type=<class 'lasio.las.HeaderItem'> str=HeaderItem(mnemonic=UWI, unit=, value=10012340, descr=UNIQUE WELL ID, original_mnemonic=UWI)\n",
      "DEBUG:lasio.las:SectionItems.append type=<class 'lasio.las.CurveItem'> str=CurveItem(mnemonic=DEPT, unit=M, value=, descr=1  DEPTH, original_mnemonic=DEPT)\n",
      "DEBUG:lasio.las:SectionItems.append type=<class 'lasio.las.CurveItem'> str=CurveItem(mnemonic=DT, unit=US/M, value=60 520 32 00, descr=2  SONIC TRANSIT TIME, original_mnemonic=DT)\n",
      "DEBUG:lasio.las:SectionItems.append type=<class 'lasio.las.CurveItem'> str=CurveItem(mnemonic=RHOB, unit=K/M3, value=45 350 01 00, descr=3  BULK DENSITY, original_mnemonic=RHOB)\n",
      "DEBUG:lasio.las:SectionItems.append type=<class 'lasio.las.CurveItem'> str=CurveItem(mnemonic=NPHI, unit=V/V, value=42 890 00 00, descr=4  NEUTRON POROSITY, original_mnemonic=NPHI)\n",
      "DEBUG:lasio.las:SectionItems.append type=<class 'lasio.las.CurveItem'> str=CurveItem(mnemonic=SFLU, unit=OHMM, value=07 220 04 00, descr=5  SHALLOW RESISTIVITY, original_mnemonic=SFLU)\n",
      "DEBUG:lasio.las:SectionItems.append type=<class 'lasio.las.CurveItem'> str=CurveItem(mnemonic=SFLA, unit=OHMM, value=07 222 01 00, descr=6  SHALLOW RESISTIVITY, original_mnemonic=SFLA)\n",
      "DEBUG:lasio.las:SectionItems.append type=<class 'lasio.las.CurveItem'> str=CurveItem(mnemonic=ILM, unit=OHMM, value=07 120 44 00, descr=7  MEDIUM RESISTIVITY, original_mnemonic=ILM)\n",
      "DEBUG:lasio.las:SectionItems.append type=<class 'lasio.las.CurveItem'> str=CurveItem(mnemonic=ILD, unit=OHMM, value=07 120 46 00, descr=8  DEEP RESISTIVITY, original_mnemonic=ILD)\n",
      "DEBUG:lasio.las:SectionItems.append type=<class 'lasio.las.HeaderItem'> str=HeaderItem(mnemonic=MUD, unit=, value=GEL CHEM, descr=MUD TYPE, original_mnemonic=MUD)\n",
      "DEBUG:lasio.las:SectionItems.append type=<class 'lasio.las.HeaderItem'> str=HeaderItem(mnemonic=BHT, unit=DEGC, value=35.5, descr=BOTTOM HOLE TEMPERATURE, original_mnemonic=BHT)\n",
      "DEBUG:lasio.las:SectionItems.append type=<class 'lasio.las.HeaderItem'> str=HeaderItem(mnemonic=BS, unit=MM, value=200.0, descr=BIT SIZE, original_mnemonic=BS)\n",
      "DEBUG:lasio.las:SectionItems.append type=<class 'lasio.las.HeaderItem'> str=HeaderItem(mnemonic=FD, unit=K/M3, value=1000.0, descr=FLUID DENSITY, original_mnemonic=FD)\n",
      "DEBUG:lasio.las:SectionItems.append type=<class 'lasio.las.HeaderItem'> str=HeaderItem(mnemonic=MATR, unit=, value=SAND, descr=NEUTRON MATRIX, original_mnemonic=MATR)\n",
      "DEBUG:lasio.las:SectionItems.append type=<class 'lasio.las.HeaderItem'> str=HeaderItem(mnemonic=MDEN, unit=, value=2710.0, descr=LOGGING MATRIX DENSITY, original_mnemonic=MDEN)\n",
      "DEBUG:lasio.las:SectionItems.append type=<class 'lasio.las.HeaderItem'> str=HeaderItem(mnemonic=RMF, unit=OHMM, value=0.216, descr=MUD FILTRATE RESISTIVITY, original_mnemonic=RMF)\n",
      "DEBUG:lasio.las:SectionItems.append type=<class 'lasio.las.HeaderItem'> str=HeaderItem(mnemonic=DFD, unit=K/M3, value=1525.0, descr=DRILL FLUID DENSITY, original_mnemonic=DFD)\n",
      "INFO:lasio.las:Reader.read_data LAS file shape = (3, 8)\n",
      "DEBUG:lasio.las:Reader.read_data checking for nulls (NULL = -999.25)\n",
      "DEBUG:lasio.las:SectionItems.__setitem__ Replaced VERS item\n",
      "DEBUG:lasio.las:LASFile.write Version section\n",
      "DEBUG:lasio.las:get_section_widths HeaderItem(mnemonic=VERS, unit=, value=2.0, descr=CWLS log ASCII Standard -VERSION 2.0, original_mnemonic=VERS)\n",
      "\torder=value:descr rhs_element=value\n",
      "DEBUG:lasio.las:get_section_widths HeaderItem(mnemonic=WRAP, unit=, value=NO, descr=ONE LINE PER DEPTH STEP, original_mnemonic=WRAP)\n",
      "\torder=value:descr rhs_element=value\n",
      "DEBUG:lasio.las:LASFile.write HeaderItem(mnemonic=VERS, unit=, value=2.0, descr=CWLS log ASCII Standard -VERSION 2.0, original_mnemonic=VERS)\n",
      "order=value:descr section_widths={'left_width': 4, 'middle_width': 4}\n",
      "DEBUG:lasio.las:LASFile.write HeaderItem(mnemonic=WRAP, unit=, value=NO, descr=ONE LINE PER DEPTH STEP, original_mnemonic=WRAP)\n",
      "order=value:descr section_widths={'left_width': 4, 'middle_width': 4}\n",
      "DEBUG:lasio.las:LASFile.write Well section\n",
      "DEBUG:lasio.las:get_section_widths HeaderItem(mnemonic=STRT, unit=M, value=1670.0, descr=START DEPTH, original_mnemonic=STRT)\n",
      "\torder=value:descr rhs_element=value\n",
      "DEBUG:lasio.las:get_section_widths HeaderItem(mnemonic=STOP, unit=M, value=1669.75, descr=STOP DEPTH, original_mnemonic=STOP)\n",
      "\torder=value:descr rhs_element=value\n",
      "DEBUG:lasio.las:get_section_widths HeaderItem(mnemonic=STEP, unit=M, value=-0.125, descr=STEP, original_mnemonic=STEP)\n",
      "\torder=value:descr rhs_element=value\n",
      "DEBUG:lasio.las:get_section_widths HeaderItem(mnemonic=NULL, unit=, value=-999.25, descr=NULL VALUE, original_mnemonic=NULL)\n",
      "\torder=value:descr rhs_element=value\n",
      "DEBUG:lasio.las:get_section_widths HeaderItem(mnemonic=COMP, unit=, value=ANY, descr=COMPANY, original_mnemonic=COMP)\n",
      "\torder=value:descr rhs_element=value\n",
      "DEBUG:lasio.las:get_section_widths HeaderItem(mnemonic=WELL, unit=, value=AAAAA_2, descr=WELL, original_mnemonic=WELL)\n",
      "\torder=value:descr rhs_element=value\n",
      "DEBUG:lasio.las:get_section_widths HeaderItem(mnemonic=FLD, unit=, value=WILDCAT, descr=FIELD, original_mnemonic=FLD)\n",
      "\torder=value:descr rhs_element=value\n",
      "DEBUG:lasio.las:get_section_widths HeaderItem(mnemonic=LOC, unit=, value=12, descr=LOCATION, original_mnemonic=LOC)\n",
      "\torder=value:descr rhs_element=value\n",
      "DEBUG:lasio.las:get_section_widths HeaderItem(mnemonic=PROV, unit=, value=ALBERTA, descr=PROVINCE, original_mnemonic=PROV)\n",
      "\torder=value:descr rhs_element=value\n",
      "DEBUG:lasio.las:get_section_widths HeaderItem(mnemonic=SRVC, unit=, value=LOGGING, descr=SERVICE COMPANY ARE YOU KIDDING THIS IS A REALLY REALLY LONG STRING, original_mnemonic=SRVC)\n",
      "\torder=value:descr rhs_element=value\n",
      "DEBUG:lasio.las:get_section_widths HeaderItem(mnemonic=DATE, unit=, value=13-DEC-86, descr=LOG DATE, original_mnemonic=DATE)\n",
      "\torder=value:descr rhs_element=value\n",
      "DEBUG:lasio.las:get_section_widths HeaderItem(mnemonic=UWI, unit=, value=10012340, descr=UNIQUE WELL ID, original_mnemonic=UWI)\n",
      "\torder=value:descr rhs_element=value\n",
      "DEBUG:lasio.las:LASFile.write HeaderItem(mnemonic=STRT, unit=M, value=1670.0, descr=START DEPTH, original_mnemonic=STRT)\n",
      "order=value:descr section_widths={'left_width': 4, 'middle_width': 10}\n",
      "DEBUG:lasio.las:LASFile.write HeaderItem(mnemonic=STOP, unit=M, value=1669.75, descr=STOP DEPTH, original_mnemonic=STOP)\n",
      "order=value:descr section_widths={'left_width': 4, 'middle_width': 10}\n",
      "DEBUG:lasio.las:LASFile.write HeaderItem(mnemonic=STEP, unit=M, value=-0.125, descr=STEP, original_mnemonic=STEP)\n",
      "order=value:descr section_widths={'left_width': 4, 'middle_width': 10}\n",
      "DEBUG:lasio.las:LASFile.write HeaderItem(mnemonic=NULL, unit=, value=-999.25, descr=NULL VALUE, original_mnemonic=NULL)\n",
      "order=value:descr section_widths={'left_width': 4, 'middle_width': 10}\n",
      "DEBUG:lasio.las:LASFile.write HeaderItem(mnemonic=COMP, unit=, value=ANY, descr=COMPANY, original_mnemonic=COMP)\n",
      "order=value:descr section_widths={'left_width': 4, 'middle_width': 10}\n",
      "DEBUG:lasio.las:LASFile.write HeaderItem(mnemonic=WELL, unit=, value=AAAAA_2, descr=WELL, original_mnemonic=WELL)\n",
      "order=value:descr section_widths={'left_width': 4, 'middle_width': 10}\n",
      "DEBUG:lasio.las:LASFile.write HeaderItem(mnemonic=FLD, unit=, value=WILDCAT, descr=FIELD, original_mnemonic=FLD)\n",
      "order=value:descr section_widths={'left_width': 4, 'middle_width': 10}\n",
      "DEBUG:lasio.las:LASFile.write HeaderItem(mnemonic=LOC, unit=, value=12, descr=LOCATION, original_mnemonic=LOC)\n",
      "order=value:descr section_widths={'left_width': 4, 'middle_width': 10}\n",
      "DEBUG:lasio.las:LASFile.write HeaderItem(mnemonic=PROV, unit=, value=ALBERTA, descr=PROVINCE, original_mnemonic=PROV)\n",
      "order=value:descr section_widths={'left_width': 4, 'middle_width': 10}\n",
      "DEBUG:lasio.las:LASFile.write HeaderItem(mnemonic=SRVC, unit=, value=LOGGING, descr=SERVICE COMPANY ARE YOU KIDDING THIS IS A REALLY REALLY LONG STRING, original_mnemonic=SRVC)\n",
      "order=value:descr section_widths={'left_width': 4, 'middle_width': 10}\n",
      "DEBUG:lasio.las:LASFile.write HeaderItem(mnemonic=DATE, unit=, value=13-DEC-86, descr=LOG DATE, original_mnemonic=DATE)\n",
      "order=value:descr section_widths={'left_width': 4, 'middle_width': 10}\n",
      "DEBUG:lasio.las:LASFile.write HeaderItem(mnemonic=UWI, unit=, value=10012340, descr=UNIQUE WELL ID, original_mnemonic=UWI)\n",
      "order=value:descr section_widths={'left_width': 4, 'middle_width': 10}\n",
      "DEBUG:lasio.las:LASFile.write Curves section\n",
      "DEBUG:lasio.las:get_section_widths CurveItem(mnemonic=DEPT, unit=M, value=, descr=1  DEPTH, original_mnemonic=DEPT)\n",
      "\torder=value:descr rhs_element=value\n",
      "DEBUG:lasio.las:get_section_widths CurveItem(mnemonic=DT, unit=US/M, value=60 520 32 00, descr=2  SONIC TRANSIT TIME, original_mnemonic=DT)\n",
      "\torder=value:descr rhs_element=value\n",
      "DEBUG:lasio.las:get_section_widths CurveItem(mnemonic=RHOB, unit=K/M3, value=45 350 01 00, descr=3  BULK DENSITY, original_mnemonic=RHOB)\n",
      "\torder=value:descr rhs_element=value\n",
      "DEBUG:lasio.las:get_section_widths CurveItem(mnemonic=NPHI, unit=V/V, value=42 890 00 00, descr=4  NEUTRON POROSITY, original_mnemonic=NPHI)\n",
      "\torder=value:descr rhs_element=value\n",
      "DEBUG:lasio.las:get_section_widths CurveItem(mnemonic=SFLU, unit=OHMM, value=07 220 04 00, descr=5  SHALLOW RESISTIVITY, original_mnemonic=SFLU)\n",
      "\torder=value:descr rhs_element=value\n",
      "DEBUG:lasio.las:get_section_widths CurveItem(mnemonic=SFLA, unit=OHMM, value=07 222 01 00, descr=6  SHALLOW RESISTIVITY, original_mnemonic=SFLA)\n",
      "\torder=value:descr rhs_element=value\n",
      "DEBUG:lasio.las:get_section_widths CurveItem(mnemonic=ILM, unit=OHMM, value=07 120 44 00, descr=7  MEDIUM RESISTIVITY, original_mnemonic=ILM)\n",
      "\torder=value:descr rhs_element=value\n",
      "DEBUG:lasio.las:get_section_widths CurveItem(mnemonic=ILD, unit=OHMM, value=07 120 46 00, descr=8  DEEP RESISTIVITY, original_mnemonic=ILD)\n",
      "\torder=value:descr rhs_element=value\n",
      "DEBUG:lasio.las:get_section_widths HeaderItem(mnemonic=MUD, unit=, value=GEL CHEM, descr=MUD TYPE, original_mnemonic=MUD)\n",
      "\torder=value:descr rhs_element=value\n",
      "DEBUG:lasio.las:get_section_widths HeaderItem(mnemonic=BHT, unit=DEGC, value=35.5, descr=BOTTOM HOLE TEMPERATURE, original_mnemonic=BHT)\n",
      "\torder=value:descr rhs_element=value\n",
      "DEBUG:lasio.las:get_section_widths HeaderItem(mnemonic=BS, unit=MM, value=200.0, descr=BIT SIZE, original_mnemonic=BS)\n",
      "\torder=value:descr rhs_element=value\n",
      "DEBUG:lasio.las:get_section_widths HeaderItem(mnemonic=FD, unit=K/M3, value=1000.0, descr=FLUID DENSITY, original_mnemonic=FD)\n",
      "\torder=value:descr rhs_element=value\n",
      "DEBUG:lasio.las:get_section_widths HeaderItem(mnemonic=MATR, unit=, value=SAND, descr=NEUTRON MATRIX, original_mnemonic=MATR)\n",
      "\torder=value:descr rhs_element=value\n",
      "DEBUG:lasio.las:get_section_widths HeaderItem(mnemonic=MDEN, unit=, value=2710.0, descr=LOGGING MATRIX DENSITY, original_mnemonic=MDEN)\n",
      "\torder=value:descr rhs_element=value\n",
      "DEBUG:lasio.las:get_section_widths HeaderItem(mnemonic=RMF, unit=OHMM, value=0.216, descr=MUD FILTRATE RESISTIVITY, original_mnemonic=RMF)\n",
      "\torder=value:descr rhs_element=value\n",
      "DEBUG:lasio.las:get_section_widths HeaderItem(mnemonic=DFD, unit=K/M3, value=1525.0, descr=DRILL FLUID DENSITY, original_mnemonic=DFD)\n",
      "\torder=value:descr rhs_element=value\n"
     ]
    },
    {
     "name": "stdout",
     "output_type": "stream",
     "text": [
      "~Version ---------------------------------------------------\n",
      "VERS. 2.0 : CWLS log ASCII Standard -VERSION 2.0\n",
      "WRAP.  NO : ONE LINE PER DEPTH STEP\n",
      "~Well ------------------------------------------------------\n",
      "STRT.M   1670.0 : START DEPTH\n",
      "STOP.M  1669.75 : STOP DEPTH\n",
      "STEP.M   -0.125 : STEP\n",
      "NULL.   -999.25 : NULL VALUE\n",
      "COMP.       ANY : COMPANY\n",
      "WELL.   AAAAA_2 : WELL\n",
      "FLD .   WILDCAT : FIELD\n",
      "LOC .        12 : LOCATION\n",
      "PROV.   ALBERTA : PROVINCE\n",
      "SRVC.   LOGGING : SERVICE COMPANY ARE YOU KIDDING THIS IS A REALLY REALLY LONG STRING\n",
      "DATE. 13-DEC-86 : LOG DATE\n",
      "UWI .  10012340 : UNIQUE WELL ID\n",
      "~Curves ----------------------------------------------------\n",
      "DEPT.M                 : 1  DEPTH\n",
      "DT  .US/M 60 520 32 00 : 2  SONIC TRANSIT TIME\n",
      "RHOB.K/M3 45 350 01 00 : 3  BULK DENSITY\n",
      "NPHI.V/V  42 890 00 00 : 4  NEUTRON POROSITY\n",
      "SFLU.OHMM 07 220 04 00 : 5  SHALLOW RESISTIVITY\n",
      "SFLA.OHMM 07 222 01 00 : 6  SHALLOW RESISTIVITY\n",
      "ILM .OHMM 07 120 44 00 : 7  MEDIUM RESISTIVITY\n",
      "ILD .OHMM 07 120 46 00 : 8  DEEP RESISTIVITY\n",
      "~Params ----------------------------------------------------\n",
      "MUD .   GEL CHEM : MUD TYPE\n",
      "BHT .DEGC   35.5 : BOTTOM HOLE TEMPERATURE\n",
      "BS  .MM    200.0 : BIT SIZE\n",
      "FD  .K/M3 1000.0 : FLUID DENSITY\n",
      "MATR.       SAND : NEUTRON MATRIX\n",
      "MDEN.     2710.0 : LOGGING MATRIX DENSITY\n",
      "RMF .OHMM  0.216 : MUD FILTRATE RESISTIVITY\n",
      "DFD .K/M3 1525.0 : DRILL FLUID DENSITY\n",
      "~Other -----------------------------------------------------\n",
      "Note: The logging tools became stuck at 625 metres causing the data\n",
      "between 625 metres and 615 metres to be invalid.\n",
      "~ASCII -----------------------------------------------------\n",
      "       1670     123.45       2550       0.45     123.45     123.45      110.2      105.6\n",
      "     1669.9     123.45       2550       0.45     123.45     123.45      110.2      105.6\n",
      "     1669.8     123.45       2550       0.45     123.45     123.45      110.2      105.6\n",
      "\n"
     ]
    }
   ],
   "source": [
    "import logging\n",
    "logging.getLogger().setLevel(level=logging.DEBUG)\n",
    "import lasio\n",
    "import StringIO\n",
    "l = lasio.read(r'D:\\personal\\code\\lasio\\tests\\examples\\sample_write_sect_widths_20_narrow.las')\n",
    "s = StringIO.StringIO()\n",
    "l.write(s, version=2)\n",
    "s.seek(0); print s.read()"
   ]
  },
  {
   "cell_type": "code",
   "execution_count": 2,
   "metadata": {
    "collapsed": false,
    "scrolled": true
   },
   "outputs": [
    {
     "data": {
      "text/plain": [
       "[HeaderItem(mnemonic=STRT, unit=M, value=1670.0, descr=, original_mnemonic=STRT),\n",
       " HeaderItem(mnemonic=STOP, unit=M, value=1669.75, descr=, original_mnemonic=STOP),\n",
       " HeaderItem(mnemonic=STEP, unit=M, value=-0.125, descr=, original_mnemonic=STEP),\n",
       " HeaderItem(mnemonic=NULL, unit=, value=-999.25, descr=, original_mnemonic=NULL),\n",
       " HeaderItem(mnemonic=COMPANY, unit=, value=# ANY OIL COMPANY LTD., descr=COMPANY, original_mnemonic=COMPANY),\n",
       " HeaderItem(mnemonic=WELL, unit=, value=ANY ET AL OIL WELL #12, descr=WELL, original_mnemonic=WELL),\n",
       " HeaderItem(mnemonic=FLD, unit=, value=EDAM, descr=FIELD, original_mnemonic=FLD),\n",
       " HeaderItem(mnemonic=LOC, unit=, value=A9-16-49-20W3M, descr=LOCATION, original_mnemonic=LOC),\n",
       " HeaderItem(mnemonic=PROV, unit=, value=SASKATCHEWAN, descr=PROVINCE, original_mnemonic=PROV),\n",
       " HeaderItem(mnemonic=SRVC, unit=, value=The company that did this logging has a very very long name...., descr=SERVICE, original_mnemonic=SRVC),\n",
       " HeaderItem(mnemonic=DATE, unit=, value=25-DEC-1988, descr=LOG DATE, original_mnemonic=DATE),\n",
       " HeaderItem(mnemonic=UWI, unit=, value=100091604920W300, descr=WELL ID, original_mnemonic=UWI)]"
      ]
     },
     "execution_count": 2,
     "metadata": {},
     "output_type": "execute_result"
    }
   ],
   "source": [
    "l.well"
   ]
  },
  {
   "cell_type": "code",
   "execution_count": 3,
   "metadata": {
    "collapsed": false
   },
   "outputs": [
    {
     "data": {
      "text/plain": [
       "8"
      ]
     },
     "execution_count": 3,
     "metadata": {},
     "output_type": "execute_result"
    }
   ],
   "source": [
    "max([len(str(i.unit)) + len(str(i.descr)) for i in l.well])"
   ]
  },
  {
   "cell_type": "code",
   "execution_count": null,
   "metadata": {
    "collapsed": true
   },
   "outputs": [],
   "source": []
  }
 ],
 "metadata": {
  "kernelspec": {
   "display_name": "Python 2",
   "language": "python",
   "name": "python2"
  },
  "language_info": {
   "codemirror_mode": {
    "name": "ipython",
    "version": 2
   },
   "file_extension": ".py",
   "mimetype": "text/x-python",
   "name": "python",
   "nbconvert_exporter": "python",
   "pygments_lexer": "ipython2",
   "version": "2.7.10"
  }
 },
 "nbformat": 4,
 "nbformat_minor": 0
}
